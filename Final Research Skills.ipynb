{
 "cells": [
  {
   "cell_type": "markdown",
   "id": "c5a11d03",
   "metadata": {},
   "source": [
    "# connect to webcam"
   ]
  },
  {
   "cell_type": "code",
   "execution_count": 7,
   "id": "bef8b97c",
   "metadata": {},
   "outputs": [],
   "source": [
    "import matplotlib.pyplot as plt\n",
    "import cv2\n",
    "import os\n",
    "import numpy as np"
   ]
  },
  {
   "cell_type": "code",
   "execution_count": 3,
   "id": "377d436a",
   "metadata": {},
   "outputs": [
    {
     "data": {
      "text/plain": [
       "True"
      ]
     },
     "execution_count": 3,
     "metadata": {},
     "output_type": "execute_result"
    }
   ],
   "source": [
    "cap = cv2.VideoCapture(0)\n",
    "cap.set(3,640) # adjust width\n",
    "cap.set(4,480) # adjust height"
   ]
  },
  {
   "cell_type": "code",
   "execution_count": 4,
   "id": "076def34",
   "metadata": {},
   "outputs": [],
   "source": [
    "ret, frame = cap.read()"
   ]
  },
  {
   "cell_type": "code",
   "execution_count": 5,
   "id": "bb444274",
   "metadata": {},
   "outputs": [
    {
     "name": "stdout",
     "output_type": "stream",
     "text": [
      "True\n"
     ]
    }
   ],
   "source": [
    "print(ret)"
   ]
  },
  {
   "cell_type": "markdown",
   "id": "e6acb82f",
   "metadata": {},
   "source": [
    "# create live feed"
   ]
  },
  {
   "cell_type": "code",
   "execution_count": 6,
   "id": "4b2533b8",
   "metadata": {},
   "outputs": [
    {
     "data": {
      "text/plain": [
       "-1"
      ]
     },
     "execution_count": 6,
     "metadata": {},
     "output_type": "execute_result"
    }
   ],
   "source": [
    "cap = cv2.VideoCapture(0) \n",
    "cap.set(3,640) \n",
    "cap.set(4,480) \n",
    "\n",
    "while True: \n",
    "    success, img = cap.read()\n",
    "    cv2.imshow(\"Webcam\", img) \n",
    "    if cv2.waitKey(1) & 0xFF==ord('q'): \n",
    "        cap.release()\n",
    "        break\n",
    "        \n",
    "cv2.destroyAllWindows() \n",
    "cv2.waitKey(1) "
   ]
  },
  {
   "cell_type": "markdown",
   "id": "1ae6fb29",
   "metadata": {},
   "source": [
    "# Capture from webcam"
   ]
  },
  {
   "cell_type": "code",
   "execution_count": null,
   "id": "21d7eadb",
   "metadata": {},
   "outputs": [],
   "source": [
    "def take_photo():\n",
    "    cap = cv2.VideoCapture(0)\n",
    "    ret, frame = cap.read()\n",
    "    cv2.imwrite(\"JL06.jpg\", frame)\n",
    "    cap.release()"
   ]
  },
  {
   "cell_type": "code",
   "execution_count": null,
   "id": "89909f25",
   "metadata": {},
   "outputs": [],
   "source": [
    "# take photo command\n",
    "take_photo()\n",
    "plt.imshow(cv2.cvtColor(frame, cv2.COLOR_BGR2RGB))\n",
    "plt.show"
   ]
  },
  {
   "cell_type": "markdown",
   "id": "af34bdb4",
   "metadata": {},
   "source": [
    "# convert live feed to binary image"
   ]
  },
  {
   "cell_type": "code",
   "execution_count": 7,
   "id": "589bb16b",
   "metadata": {},
   "outputs": [
    {
     "data": {
      "text/plain": [
       "-1"
      ]
     },
     "execution_count": 7,
     "metadata": {},
     "output_type": "execute_result"
    }
   ],
   "source": [
    "cap = cv2.VideoCapture(0) \n",
    "while True:\n",
    "    ret, frame = cap.read()\n",
    "    width = int(cap.get(3))\n",
    "    height = int(cap.get(4))\n",
    "    \n",
    "    hsv = cv2.cvtColor(frame, cv2.COLOR_BGR2HSV)# can change to cv2.COLOR_BGR2HLS or cv2.COLOR_BGRGRAY\n",
    "    lower_blue = np.array([160,20,70])\n",
    "    upper_blue = np.array([190,255,255])\n",
    "    \n",
    "    mask = cv2.inRange(hsv, lower_blue, upper_blue)\n",
    "    \n",
    "    result = cv2.bitwise_and(frame, frame, mask=mask)\n",
    "    \n",
    "    cv2.imshow('frame', result)\n",
    "    cv2.imshow('mask', mask)\n",
    "\n",
    "    \n",
    "    if cv2.waitKey(1) & 0xFF==ord('q'):\n",
    "        cap.release()\n",
    "        break\n",
    "        \n",
    "cv2.destroyAllWindows() \n",
    "cv2.waitKey(1) # normally unnecessary, but it fixes a bug on MacOS where the wi"
   ]
  },
  {
   "cell_type": "markdown",
   "id": "e20e34da",
   "metadata": {},
   "source": [
    "# Save frames from live feed to jpg"
   ]
  },
  {
   "cell_type": "code",
   "execution_count": 9,
   "id": "0b980ce4",
   "metadata": {},
   "outputs": [],
   "source": [
    "def save_frame_camera_key(device_num, dir_path, basename, ext='jpg', delay=1, window_name='frame'):\n",
    "    cap = cv2.VideoCapture(device_num)\n",
    "\n",
    "    if not cap.isOpened():\n",
    "        return\n",
    "\n",
    "    os.makedirs(dir_path, exist_ok=True)\n",
    "    base_path = os.path.join(dir_path, basename)\n",
    "\n",
    "    n = 0\n",
    "    \n",
    "    # to do the same with mask segmenenting: + \n",
    "    #while True:\n",
    "    #ret, frame = cap.read()\n",
    "    #width = int(cap.get(3))\n",
    "    #height = int(cap.get(4))\n",
    "    \n",
    "    #hsv = cv2.cvtColor(frame, cv2.COLOR_BGR2HSV)\n",
    "    #lower_blue = np.array([160,20,70])\n",
    "    #upper_blue = np.array([190,255,255])\n",
    "    \n",
    "    #mask = cv2.inRange(hsv, lower_blue, upper_blue)\n",
    "    \n",
    "    #result = cv2.bitwise_and(frame, frame, mask=mask)\n",
    "    \n",
    "    while True:\n",
    "        ret, frame = cap.read()\n",
    "        cv2.imshow(window_name, frame)\n",
    "        #cv2.imshow(window_name, mask)\n",
    "        key = cv2.waitKey(delay) & 0xFF\n",
    "        if key == ord('c'):\n",
    "            cv2.imwrite('{}_{}.{}'.format(base_path, n, ext), frame)\n",
    "            n += 1\n",
    "        elif key == ord('q'):\n",
    "            break\n",
    "\n",
    "    cv2.destroyWindow(window_name)\n",
    "\n",
    "\n",
    "save_frame_camera_key(0, 'data/teml', 'camera_capture')"
   ]
  },
  {
   "cell_type": "code",
   "execution_count": null,
   "id": "e664a3a7",
   "metadata": {},
   "outputs": [],
   "source": [
    "lower_blue = np.array([101,50,38])\n",
    "upper_blue = np.array([110,255,255])\n",
    "\n",
    "lower_purp = np.array([0, 22, 55])\n",
    "upper_purp = np.array([328, 22, 23])"
   ]
  },
  {
   "cell_type": "markdown",
   "id": "9b6ba665",
   "metadata": {},
   "source": [
    "# Convert saved image to binary (HSV)"
   ]
  },
  {
   "cell_type": "code",
   "execution_count": 1,
   "id": "1c33b0de",
   "metadata": {},
   "outputs": [
    {
     "name": "stdout",
     "output_type": "stream",
     "text": [
      "Number of brown pixels:  1\n",
      "total pixels:  1\n",
      "The total number of pixels in the image is: 17915904\n"
     ]
    }
   ],
   "source": [
    "import cv2\n",
    "import numpy as np\n",
    "\n",
    "# Read image\n",
    "img = cv2.imread(\"IMG_9692.jpg\")\n",
    "\n",
    "# Convert to HSV color space\n",
    "hsv = cv2.cvtColor(img, cv2.COLOR_BGR2HSV)\n",
    "\n",
    "# Define range of brown color in HSV\n",
    "#lower_brown = np.array([20, 100, 100])\n",
    "#upper_brown = np.array([30, 255, 255])\n",
    "# Define the range of colors for the mask\n",
    "lower_colour = np.array([101,50,38])\n",
    "upper_colour = np.array([110,255,255])\n",
    "\n",
    "\n",
    "# Threshold the HSV image to get only brown colors\n",
    "mask = cv2.inRange(hsv, lower_colour, upper_colour)\n",
    "cv2.imshow(\"mask\", mask)\n",
    "cv2.imshow('mask', mask)\n",
    "\n",
    "# Wait for the user to press a key\n",
    "cv2.waitKey(0)\n",
    "\n",
    "# Save the image to disk\n",
    "cv2.imwrite('mask_1.jpg', mask)\n",
    "\n",
    "# Count the number of brown pixels in the image\n",
    "brown_pixels = cv2.countNonZero(mask)\n",
    "total_pixels = np.prod(img.shape[:2])\n",
    "\n",
    "if cv2.waitKey(1) & 0xFF==ord('q'):\n",
    "        cap.release()\n",
    "\n",
    "# Print the result\n",
    "print(\"Number of brown pixels: \", brown_pixels)\n",
    "print(\"total pixels: \", brown_pixels)\n",
    "print(\"The total number of pixels in the image is:\", total_pixels)"
   ]
  },
  {
   "cell_type": "markdown",
   "id": "5c8037bb",
   "metadata": {},
   "source": [
    "# Convert image to binary (Grayscale)"
   ]
  },
  {
   "cell_type": "code",
   "execution_count": null,
   "id": "b97522f4",
   "metadata": {},
   "outputs": [],
   "source": [
    "import cv2\n",
    "\n",
    "image = cv2.imread('Biohybrid2.jpg')\n",
    "\n",
    "img_gray = cv2.cvtColor(image, cv2.COLOR_BGR2GRAY)\n",
    "\n",
    "ret, frame = cv2.threshold(img_gray, 150, 255, cv2.THRESH_BINARY)\n",
    "# visualize the binary image\n",
    "cv2.imshow('Binary image', frame)\n",
    "cv2.imwrite('Biohybridout4.jpg', frame)\n",
    "cv2.waitKey(0)\n",
    "\n",
    "cv2.destroyAllWindows()"
   ]
  },
  {
   "cell_type": "markdown",
   "id": "0457a360",
   "metadata": {},
   "source": [
    "# Count numbed of black and white pixels to determine area covered by bacteria"
   ]
  },
  {
   "cell_type": "code",
   "execution_count": 7,
   "id": "b4e34b58",
   "metadata": {},
   "outputs": [
    {
     "name": "stdout",
     "output_type": "stream",
     "text": [
      "Black pixels: 3550777\n",
      "White pixels: 14365127\n",
      "total pixels: 17915904\n"
     ]
    }
   ],
   "source": [
    "import cv2\n",
    "\n",
    "# Load binary image\n",
    "binaryImage = cv2.imread('Newday3.jpg', cv2.IMREAD_GRAYSCALE)\n",
    "\n",
    "# Get histogram\n",
    "histogram = cv2.calcHist([binaryImage], [0], None, [2], [0, 256])\n",
    "\n",
    "# Print number of black and white pixels\n",
    "print(\"Black pixels:\", int(histogram[0][0]))\n",
    "print(\"White pixels:\", int(histogram[1][0]))\n",
    "print(\"total pixels:\", int(histogram[1][0]+histogram[0][0]))"
   ]
  },
  {
   "cell_type": "markdown",
   "id": "86e068a8",
   "metadata": {},
   "source": [
    "# Create histogram of image greyscale data (single file)"
   ]
  },
  {
   "cell_type": "code",
   "execution_count": null,
   "id": "f633528b",
   "metadata": {},
   "outputs": [],
   "source": [
    "import cv2\n",
    "import matplotlib.pyplot as plt\n",
    "\n",
    "# read in the image\n",
    "img = cv2.imread('Out1-01.jpg')\n",
    "\n",
    "# create the histogram\n",
    "hist = cv2.calcHist([img], [0], None, [256], [0,256])\n",
    "\n",
    "# plot the histogram using matplotlib\n",
    "plt.hist(img.ravel(), bins=20, range=[0,256])\n",
    "plt.show()"
   ]
  },
  {
   "cell_type": "code",
   "execution_count": null,
   "id": "08e94300",
   "metadata": {},
   "outputs": [],
   "source": [
    "totalPixels = size(binaryImage,1)*size(binaryImage,2);\n",
    "blackPixels = totalPixels - histogram(2);\n",
    "fprintf('Black pixels: %d\\nWhite pixels: %d\\n', blackPixels, histogram(2));"
   ]
  },
  {
   "cell_type": "markdown",
   "id": "5d20efc6",
   "metadata": {},
   "source": [
    "# Create histogram of image greyscale data (multiple files)"
   ]
  },
  {
   "cell_type": "code",
   "execution_count": 3,
   "id": "4c035259",
   "metadata": {},
   "outputs": [
    {
     "data": {
      "image/png": "[encoded data removed]",
      "text/plain": [
       "<Figure size 1500x500 with 2 Axes>"
      ]
     },
     "metadata": {},
     "output_type": "display_data"
    }
   ],
   "source": [
    "import cv2\n",
    "import matplotlib.pyplot as plt\n",
    "\n",
    "# read in the images\n",
    "img1 = cv2.imread('Biohybridout2.jpg')\n",
    "img2 = cv2.imread('Biohybridout1.jpg')\n",
    "#img3 = cv2.imread('NewDay3.JPG')\n",
    "\n",
    "# create the histograms\n",
    "hist1 = cv2.calcHist([img1], [0], None, [256], [0,256])\n",
    "hist2 = cv2.calcHist([img2], [0], None, [256], [0,256])\n",
    "#hist3 = cv2.calcHist([img3], [0], None, [256], [0,256])\n",
    "\n",
    "# create subplots\n",
    "fig, axs = plt.subplots(1, 2, figsize=(15,5), tight_layout=True)\n",
    "axs[0].hist(img1.ravel(), bins=10, range=[0,256], color='maroon', alpha=0.5, label='image1')\n",
    "axs[1].hist(img2.ravel(), bins=10, range=[0,256], color='purple', alpha=0.5, label='image2')\n",
    "#axs[2].hist(img3.ravel(), bins=10, range=[0,256], color='blue', alpha=0.5, label='image3')\n",
    "\n",
    "# set labels for subplots\n",
    "axs[0].set_title('Overview')\n",
    "axs[1].set_title('Close up')\n",
    "#axs[2].set_title('Day 3')\n",
    "\n",
    "axs[0].set(xlabel=\"Intensity\", ylabel=\"Pixel Count\")\n",
    "axs[1].set(xlabel=\"Intensity\", ylabel=\"Pixel Count\")\n",
    "#axs[1].set(xlabel=\"Intensity\", ylabel=\"Pixel Count\")\n",
    "\n",
    "plt.show()"
   ]
  },
  {
   "cell_type": "markdown",
   "id": "a827418f",
   "metadata": {},
   "source": [
    "# HSL Colour mask"
   ]
  },
  {
   "cell_type": "code",
   "execution_count": 10,
   "id": "38da770c",
   "metadata": {},
   "outputs": [
    {
     "ename": "AttributeError",
     "evalue": "module 'cv2' has no attribute 'COLOR_BGR2HSL'",
     "output_type": "error",
     "traceback": [
      "\u001b[0;31m---------------------------------------------------------------------------\u001b[0m",
      "\u001b[0;31mAttributeError\u001b[0m                            Traceback (most recent call last)",
      "\u001b[0;32m/var/folders/pz/kxgfbj8d21zfzzm3v1lsghn00000gn/T/ipykernel_66628/2803843077.py\u001b[0m in \u001b[0;36m<module>\u001b[0;34m\u001b[0m\n\u001b[1;32m      6\u001b[0m \u001b[0;34m\u001b[0m\u001b[0m\n\u001b[1;32m      7\u001b[0m \u001b[0;31m# Convert to HSV color space\u001b[0m\u001b[0;34m\u001b[0m\u001b[0;34m\u001b[0m\u001b[0m\n\u001b[0;32m----> 8\u001b[0;31m \u001b[0mhls\u001b[0m \u001b[0;34m=\u001b[0m \u001b[0mcv2\u001b[0m\u001b[0;34m.\u001b[0m\u001b[0mcvtColor\u001b[0m\u001b[0;34m(\u001b[0m\u001b[0mimg\u001b[0m\u001b[0;34m,\u001b[0m \u001b[0mcv2\u001b[0m\u001b[0;34m.\u001b[0m\u001b[0mCOLOR_BGR2HSL\u001b[0m\u001b[0;34m)\u001b[0m\u001b[0;34m\u001b[0m\u001b[0;34m\u001b[0m\u001b[0m\n\u001b[0m\u001b[1;32m      9\u001b[0m \u001b[0;34m\u001b[0m\u001b[0m\n\u001b[1;32m     10\u001b[0m \u001b[0;31m# Define range of brown color in HSV\u001b[0m\u001b[0;34m\u001b[0m\u001b[0;34m\u001b[0m\u001b[0m\n",
      "\u001b[0;31mAttributeError\u001b[0m: module 'cv2' has no attribute 'COLOR_BGR2HSL'"
     ]
    }
   ],
   "source": [
    "import cv2\n",
    "import numpy as np\n",
    "\n",
    "# Read image\n",
    "img = cv2.imread(\"IMG_9692.jpg\")\n",
    "\n",
    "hls = cv2.cvtColor(img, cv2.COLOR_BGR2HSL)\n",
    "\n",
    "#lower_brown = np.array([20, 100, 100])\n",
    "#upper_brown = np.array([30, 255, 255])\n",
    "lower_colour = np.array([338, 8, 47])\n",
    "upper_colour = np.array([284, 10, 22])\n",
    "\n",
    "mask = cv2.inRange(hsl, lower_colour, upper_colour)\n",
    "cv2.imshow(\"mask\", mask)\n",
    "cv2.imshow('mask', mask)\n",
    "\n",
    "cv2.waitKey(0)\n",
    "\n",
    "cv2.imwrite('mask_1.jpg', mask)\n",
    "\n",
    "brown_pixels = cv2.countNonZero(mask)\n",
    "total_pixels = np.prod(image.shape[:2])\n",
    "\n",
    "if cv2.waitKey(1) & 0xFF==ord('q'):\n",
    "        cap.release()\n",
    "\n",
    "# Print the result\n",
    "print(\"Number of brown pixels: \", brown_pixels)\n",
    "print(\"total pixels: \", brown_pixels)\n",
    "print(\"The total number of pixels in the image is:\", total_pixels)"
   ]
  },
  {
   "cell_type": "code",
   "execution_count": null,
   "id": "371502a8",
   "metadata": {},
   "outputs": [],
   "source": []
  },
  {
   "cell_type": "code",
   "execution_count": null,
   "id": "2fab2c67",
   "metadata": {},
   "outputs": [],
   "source": []
  },
  {
   "cell_type": "markdown",
   "id": "5d1abf9f",
   "metadata": {},
   "source": [
    "# Measure number of black pixels inside a circle mask - Can be used for counting pixels on a petri dish (?)"
   ]
  },
  {
   "cell_type": "code",
   "execution_count": null,
   "id": "d6cef357",
   "metadata": {},
   "outputs": [
    {
     "name": "stdout",
     "output_type": "stream",
     "text": [
      "Number of black pixels inside the circle: 3262077\n"
     ]
    }
   ],
   "source": [
    "import cv2\n",
    "import numpy as np\n",
    "\n",
    "# Read the image\n",
    "image = cv2.imread('Plateimg-01.jpg')\n",
    "\n",
    "# Convert the image to grayscale\n",
    "gray = cv2.cvtColor(image, cv2.COLOR_BGR2GRAY)\n",
    "\n",
    "ret, thresh = cv2.threshold(gray, 150, 255, cv2.THRESH_BINARY)\n",
    "# visualize the binary image\n",
    "\n",
    "# Get the height and width of the image\n",
    "height, width = gray.shape[:2]\n",
    "\n",
    "# Define the center of the image\n",
    "center = (int(width/2), int(height/2))\n",
    "\n",
    "# Define the radius of the circle\n",
    "radius = int(min(height, width)/2.2)\n",
    "\n",
    "# Create a black mask with the same size as the image\n",
    "mask = np.zeros((height, width), dtype=np.uint8)\n",
    "\n",
    "# Draw a white circle on the mask\n",
    "cv2.circle(mask, center, radius, (255, 255, 255), -1)\n",
    "\n",
    "# Apply the mask to the image\n",
    "result = cv2.bitwise_and(gray, gray, mask=mask)\n",
    "\n",
    "# Count the number of black pixels in the result\n",
    "black_pixels = cv2.countNonZero(result)\n",
    "print(\"Number of black pixels inside the circle:\", black_pixels)\n",
    "\n",
    "# Show the result\n",
    "cv2.imshow('Result', result)\n",
    "\n",
    "# Wait for the user to press a key\n",
    "cv2.waitKey(0)\n",
    "\n",
    "# Close the window\n",
    "cv2.destroyAllWindows()"
   ]
  },
  {
   "cell_type": "markdown",
   "id": "25055a86",
   "metadata": {},
   "source": [
    "# Read 3 images in one graph MatLab"
   ]
  },
  {
   "cell_type": "code",
   "execution_count": 15,
   "id": "fc3d057c",
   "metadata": {},
   "outputs": [
    {
     "data": {
      "image/png": "[encoded data removed]",
      "text/plain": [
       "<Figure size 640x480 with 1 Axes>"
      ]
     },
     "metadata": {},
     "output_type": "display_data"
    }
   ],
   "source": [
    "import cv2\n",
    "import matplotlib.pyplot as plt\n",
    "import pandas as pd\n",
    "\n",
    "\n",
    "image1 = cv2.imread('Newday1.JPG', 0)\n",
    "image2 = cv2.imread('Newday2.JPG', 0)\n",
    "image3 = cv2.imread('Newday2.JPG', 0)\n",
    "\n",
    "# Count the number of black pixels in each image\n",
    "black_pixels1 = cv2.countNonZero(image1)\n",
    "black_pixels2 = cv2.countNonZero(image2)\n",
    "black_pixels3 = cv2.countNonZero(image3)\n",
    "\n",
    "# Create a list of the black pixel counts\n",
    "black_pixels = [black_pixels1, black_pixels2, black_pixels3]\n",
    "\n",
    "# Create a list of the image labels\n",
    "image_labels = ['Image 1', 'Image 2', 'Image 3']\n",
    "\n",
    "# Plot the histogram\n",
    "plt.bar(image_labels, black_pixels)\n",
    "plt.ylabel('Number of black pixels')\n",
    "plt.show()\n"
   ]
  },
  {
   "cell_type": "markdown",
   "id": "76015ed2",
   "metadata": {},
   "source": [
    "# stitch images in one column"
   ]
  },
  {
   "cell_type": "code",
   "execution_count": 2,
   "id": "9357cc84",
   "metadata": {},
   "outputs": [
    {
     "name": "stderr",
     "output_type": "stream",
     "text": [
      "[ WARN:0@0.025] global loadsave.cpp:244 findDecoder imread_('L.jpg'): can't open/read file: check file path/integrity\n",
      "[ WARN:0@0.025] global loadsave.cpp:244 findDecoder imread_('U2.jpg'): can't open/read file: check file path/integrity\n",
      "[ WARN:0@0.025] global loadsave.cpp:244 findDecoder imread_('U3.jpg'): can't open/read file: check file path/integrity\n"
     ]
    },
    {
     "ename": "ValueError",
     "evalue": "zero-dimensional arrays cannot be concatenated",
     "output_type": "error",
     "traceback": [
      "\u001b[0;31m---------------------------------------------------------------------------\u001b[0m",
      "\u001b[0;31mValueError\u001b[0m                                Traceback (most recent call last)",
      "\u001b[0;32m/var/folders/pz/kxgfbj8d21zfzzm3v1lsghn00000gn/T/ipykernel_77440/1530885818.py\u001b[0m in \u001b[0;36m<module>\u001b[0;34m\u001b[0m\n\u001b[1;32m      7\u001b[0m \u001b[0;34m\u001b[0m\u001b[0m\n\u001b[1;32m      8\u001b[0m \u001b[0;31m#vis = np.concatenate((img1, img2), axis=1)\u001b[0m\u001b[0;34m\u001b[0m\u001b[0;34m\u001b[0m\u001b[0m\n\u001b[0;32m----> 9\u001b[0;31m \u001b[0mvis\u001b[0m \u001b[0;34m=\u001b[0m \u001b[0mnp\u001b[0m\u001b[0;34m.\u001b[0m\u001b[0mconcatenate\u001b[0m\u001b[0;34m(\u001b[0m\u001b[0;34m(\u001b[0m\u001b[0mimg1\u001b[0m\u001b[0;34m,\u001b[0m \u001b[0mimg2\u001b[0m\u001b[0;34m,\u001b[0m \u001b[0mimg3\u001b[0m\u001b[0;34m)\u001b[0m\u001b[0;34m,\u001b[0m \u001b[0maxis\u001b[0m\u001b[0;34m=\u001b[0m\u001b[0;36m0\u001b[0m\u001b[0;34m)\u001b[0m\u001b[0;34m\u001b[0m\u001b[0;34m\u001b[0m\u001b[0m\n\u001b[0m\u001b[1;32m     10\u001b[0m \u001b[0mcv2\u001b[0m\u001b[0;34m.\u001b[0m\u001b[0mimwrite\u001b[0m\u001b[0;34m(\u001b[0m\u001b[0;34m'out2.png'\u001b[0m\u001b[0;34m,\u001b[0m \u001b[0mvis\u001b[0m\u001b[0;34m)\u001b[0m\u001b[0;34m\u001b[0m\u001b[0;34m\u001b[0m\u001b[0m\n",
      "\u001b[0;32m<__array_function__ internals>\u001b[0m in \u001b[0;36mconcatenate\u001b[0;34m(*args, **kwargs)\u001b[0m\n",
      "\u001b[0;31mValueError\u001b[0m: zero-dimensional arrays cannot be concatenated"
     ]
    }
   ],
   "source": [
    "import cv2\n",
    "import numpy as np\n",
    "img1 = cv2.imread(\"L.jpg\")\n",
    "img2 = cv2.imread(\"U2.jpg\")\n",
    "img3 = cv2.imread(\"U3.jpg\")\n",
    "\n",
    "#axis 1 = horizontal, axis 0 = vertical\n",
    "\n",
    "#vis = np.concatenate((img1, img2), axis=1)\n",
    "vis = np.concatenate((img1, img2, img3), axis=0)\n",
    "cv2.imwrite('out2.png', vis)"
   ]
  },
  {
   "cell_type": "markdown",
   "id": "8001b9b9",
   "metadata": {},
   "source": [
    "# Stitch images in two columns and save as new image"
   ]
  },
  {
   "cell_type": "code",
   "execution_count": 1,
   "id": "6bfcaade",
   "metadata": {},
   "outputs": [
    {
     "ename": "FileNotFoundError",
     "evalue": "[Errno 2] No such file or directory: '1L.jpg'",
     "output_type": "error",
     "traceback": [
      "\u001b[0;31m---------------------------------------------------------------------------\u001b[0m",
      "\u001b[0;31mFileNotFoundError\u001b[0m                         Traceback (most recent call last)",
      "\u001b[0;32m/var/folders/pz/kxgfbj8d21zfzzm3v1lsghn00000gn/T/ipykernel_77440/3451403696.py\u001b[0m in \u001b[0;36m<module>\u001b[0;34m\u001b[0m\n\u001b[1;32m     29\u001b[0m \u001b[0;34m\u001b[0m\u001b[0m\n\u001b[1;32m     30\u001b[0m \u001b[0;34m\u001b[0m\u001b[0m\n\u001b[0;32m---> 31\u001b[0;31m \u001b[0mstitch_images\u001b[0m\u001b[0;34m(\u001b[0m\u001b[0mcolumns\u001b[0m\u001b[0;34m=\u001b[0m\u001b[0;36m2\u001b[0m\u001b[0;34m,\u001b[0m \u001b[0mspace\u001b[0m\u001b[0;34m=\u001b[0m\u001b[0;36m2\u001b[0m\u001b[0;34m,\u001b[0m \u001b[0mimages\u001b[0m\u001b[0;34m=\u001b[0m\u001b[0;34m[\u001b[0m\u001b[0;34m'1L.jpg'\u001b[0m\u001b[0;34m,\u001b[0m \u001b[0;34m'2L.jpg'\u001b[0m\u001b[0;34m,\u001b[0m \u001b[0;34m'3L.jpg'\u001b[0m\u001b[0;34m,\u001b[0m \u001b[0;34m'4L.jpg'\u001b[0m\u001b[0;34m,\u001b[0m \u001b[0;34m'5L.jpg'\u001b[0m\u001b[0;34m,\u001b[0m \u001b[0;34m'6L.jpg'\u001b[0m\u001b[0;34m,\u001b[0m \u001b[0;34m'7L.jpg'\u001b[0m\u001b[0;34m,\u001b[0m \u001b[0;34m'8L.jpg'\u001b[0m\u001b[0;34m]\u001b[0m\u001b[0;34m)\u001b[0m\u001b[0;34m\u001b[0m\u001b[0;34m\u001b[0m\u001b[0m\n\u001b[0m\u001b[1;32m     32\u001b[0m \u001b[0;34m\u001b[0m\u001b[0m\n",
      "\u001b[0;32m/var/folders/pz/kxgfbj8d21zfzzm3v1lsghn00000gn/T/ipykernel_77440/3451403696.py\u001b[0m in \u001b[0;36mstitch_images\u001b[0;34m(columns, space, images)\u001b[0m\n\u001b[1;32m      5\u001b[0m     \u001b[0;32mif\u001b[0m \u001b[0mlen\u001b[0m\u001b[0;34m(\u001b[0m\u001b[0mimages\u001b[0m\u001b[0;34m)\u001b[0m \u001b[0;34m%\u001b[0m \u001b[0mcolumns\u001b[0m\u001b[0;34m:\u001b[0m\u001b[0;34m\u001b[0m\u001b[0;34m\u001b[0m\u001b[0m\n\u001b[1;32m      6\u001b[0m         \u001b[0mrows\u001b[0m \u001b[0;34m+=\u001b[0m \u001b[0;36m1\u001b[0m\u001b[0;34m\u001b[0m\u001b[0;34m\u001b[0m\u001b[0m\n\u001b[0;32m----> 7\u001b[0;31m     \u001b[0mwidth_max\u001b[0m \u001b[0;34m=\u001b[0m \u001b[0mmax\u001b[0m\u001b[0;34m(\u001b[0m\u001b[0;34m[\u001b[0m\u001b[0mImage\u001b[0m\u001b[0;34m.\u001b[0m\u001b[0mopen\u001b[0m\u001b[0;34m(\u001b[0m\u001b[0mimage\u001b[0m\u001b[0;34m)\u001b[0m\u001b[0;34m.\u001b[0m\u001b[0mwidth\u001b[0m \u001b[0;32mfor\u001b[0m \u001b[0mimage\u001b[0m \u001b[0;32min\u001b[0m \u001b[0mimages\u001b[0m\u001b[0;34m]\u001b[0m\u001b[0;34m)\u001b[0m\u001b[0;34m\u001b[0m\u001b[0;34m\u001b[0m\u001b[0m\n\u001b[0m\u001b[1;32m      8\u001b[0m     \u001b[0mheight_max\u001b[0m \u001b[0;34m=\u001b[0m \u001b[0mmax\u001b[0m\u001b[0;34m(\u001b[0m\u001b[0;34m[\u001b[0m\u001b[0mImage\u001b[0m\u001b[0;34m.\u001b[0m\u001b[0mopen\u001b[0m\u001b[0;34m(\u001b[0m\u001b[0mimage\u001b[0m\u001b[0;34m)\u001b[0m\u001b[0;34m.\u001b[0m\u001b[0mheight\u001b[0m \u001b[0;32mfor\u001b[0m \u001b[0mimage\u001b[0m \u001b[0;32min\u001b[0m \u001b[0mimages\u001b[0m\u001b[0;34m]\u001b[0m\u001b[0;34m)\u001b[0m\u001b[0;34m\u001b[0m\u001b[0;34m\u001b[0m\u001b[0m\n\u001b[1;32m      9\u001b[0m     \u001b[0mbackground_width\u001b[0m \u001b[0;34m=\u001b[0m \u001b[0mwidth_max\u001b[0m\u001b[0;34m*\u001b[0m\u001b[0mcolumns\u001b[0m \u001b[0;34m+\u001b[0m \u001b[0;34m(\u001b[0m\u001b[0mspace\u001b[0m\u001b[0;34m*\u001b[0m\u001b[0mcolumns\u001b[0m\u001b[0;34m)\u001b[0m\u001b[0;34m-\u001b[0m\u001b[0mspace\u001b[0m\u001b[0;34m\u001b[0m\u001b[0;34m\u001b[0m\u001b[0m\n",
      "\u001b[0;32m/var/folders/pz/kxgfbj8d21zfzzm3v1lsghn00000gn/T/ipykernel_77440/3451403696.py\u001b[0m in \u001b[0;36m<listcomp>\u001b[0;34m(.0)\u001b[0m\n\u001b[1;32m      5\u001b[0m     \u001b[0;32mif\u001b[0m \u001b[0mlen\u001b[0m\u001b[0;34m(\u001b[0m\u001b[0mimages\u001b[0m\u001b[0;34m)\u001b[0m \u001b[0;34m%\u001b[0m \u001b[0mcolumns\u001b[0m\u001b[0;34m:\u001b[0m\u001b[0;34m\u001b[0m\u001b[0;34m\u001b[0m\u001b[0m\n\u001b[1;32m      6\u001b[0m         \u001b[0mrows\u001b[0m \u001b[0;34m+=\u001b[0m \u001b[0;36m1\u001b[0m\u001b[0;34m\u001b[0m\u001b[0;34m\u001b[0m\u001b[0m\n\u001b[0;32m----> 7\u001b[0;31m     \u001b[0mwidth_max\u001b[0m \u001b[0;34m=\u001b[0m \u001b[0mmax\u001b[0m\u001b[0;34m(\u001b[0m\u001b[0;34m[\u001b[0m\u001b[0mImage\u001b[0m\u001b[0;34m.\u001b[0m\u001b[0mopen\u001b[0m\u001b[0;34m(\u001b[0m\u001b[0mimage\u001b[0m\u001b[0;34m)\u001b[0m\u001b[0;34m.\u001b[0m\u001b[0mwidth\u001b[0m \u001b[0;32mfor\u001b[0m \u001b[0mimage\u001b[0m \u001b[0;32min\u001b[0m \u001b[0mimages\u001b[0m\u001b[0;34m]\u001b[0m\u001b[0;34m)\u001b[0m\u001b[0;34m\u001b[0m\u001b[0;34m\u001b[0m\u001b[0m\n\u001b[0m\u001b[1;32m      8\u001b[0m     \u001b[0mheight_max\u001b[0m \u001b[0;34m=\u001b[0m \u001b[0mmax\u001b[0m\u001b[0;34m(\u001b[0m\u001b[0;34m[\u001b[0m\u001b[0mImage\u001b[0m\u001b[0;34m.\u001b[0m\u001b[0mopen\u001b[0m\u001b[0;34m(\u001b[0m\u001b[0mimage\u001b[0m\u001b[0;34m)\u001b[0m\u001b[0;34m.\u001b[0m\u001b[0mheight\u001b[0m \u001b[0;32mfor\u001b[0m \u001b[0mimage\u001b[0m \u001b[0;32min\u001b[0m \u001b[0mimages\u001b[0m\u001b[0;34m]\u001b[0m\u001b[0;34m)\u001b[0m\u001b[0;34m\u001b[0m\u001b[0;34m\u001b[0m\u001b[0m\n\u001b[1;32m      9\u001b[0m     \u001b[0mbackground_width\u001b[0m \u001b[0;34m=\u001b[0m \u001b[0mwidth_max\u001b[0m\u001b[0;34m*\u001b[0m\u001b[0mcolumns\u001b[0m \u001b[0;34m+\u001b[0m \u001b[0;34m(\u001b[0m\u001b[0mspace\u001b[0m\u001b[0;34m*\u001b[0m\u001b[0mcolumns\u001b[0m\u001b[0;34m)\u001b[0m\u001b[0;34m-\u001b[0m\u001b[0mspace\u001b[0m\u001b[0;34m\u001b[0m\u001b[0;34m\u001b[0m\u001b[0m\n",
      "\u001b[0;32m~/opt/anaconda3/lib/python3.9/site-packages/PIL/Image.py\u001b[0m in \u001b[0;36mopen\u001b[0;34m(fp, mode, formats)\u001b[0m\n\u001b[1;32m   3090\u001b[0m \u001b[0;34m\u001b[0m\u001b[0m\n\u001b[1;32m   3091\u001b[0m     \u001b[0;32mif\u001b[0m \u001b[0mfilename\u001b[0m\u001b[0;34m:\u001b[0m\u001b[0;34m\u001b[0m\u001b[0;34m\u001b[0m\u001b[0m\n\u001b[0;32m-> 3092\u001b[0;31m         \u001b[0mfp\u001b[0m \u001b[0;34m=\u001b[0m \u001b[0mbuiltins\u001b[0m\u001b[0;34m.\u001b[0m\u001b[0mopen\u001b[0m\u001b[0;34m(\u001b[0m\u001b[0mfilename\u001b[0m\u001b[0;34m,\u001b[0m \u001b[0;34m\"rb\"\u001b[0m\u001b[0;34m)\u001b[0m\u001b[0;34m\u001b[0m\u001b[0;34m\u001b[0m\u001b[0m\n\u001b[0m\u001b[1;32m   3093\u001b[0m         \u001b[0mexclusive_fp\u001b[0m \u001b[0;34m=\u001b[0m \u001b[0;32mTrue\u001b[0m\u001b[0;34m\u001b[0m\u001b[0;34m\u001b[0m\u001b[0m\n\u001b[1;32m   3094\u001b[0m \u001b[0;34m\u001b[0m\u001b[0m\n",
      "\u001b[0;31mFileNotFoundError\u001b[0m: [Errno 2] No such file or directory: '1L.jpg'"
     ]
    }
   ],
   "source": [
    "from PIL import Image\n",
    "\n",
    "def stitch_images(columns, space, images):\n",
    "    rows = len(images) // columns\n",
    "    if len(images) % columns:\n",
    "        rows += 1\n",
    "    width_max = max([Image.open(image).width for image in images])\n",
    "    height_max = max([Image.open(image).height for image in images])\n",
    "    background_width = width_max*columns + (space*columns)-space\n",
    "    background_height = height_max*rows + (space*rows)-space\n",
    "    background = Image.new('RGBA', (background_width, background_height), (255, 255, 255, 255))\n",
    "    x = 0\n",
    "    y = 0\n",
    "    for i, image in enumerate(images):\n",
    "        img = Image.open(image)\n",
    "        x_offset = int((width_max-img.width)/2)\n",
    "        #x_offset =int(img.width)\n",
    "        #y_offset =int(img.height)\n",
    "        y_offset = int((height_max-img.height)/2)\n",
    "        #x_offset = int(width_max/6)\n",
    "        #y_offset = int(height_max+50)\n",
    "        background.paste(img, (x+x_offset, y+y_offset))\n",
    "        x += width_max + space\n",
    "        if (i+1) % columns == 0:\n",
    "            y += height_max + space\n",
    "            x = 0\n",
    "    background.save('newimage.png')\n",
    "    pil_im = Image.open('newimage.png', 'r')\n",
    "     \n",
    "\n",
    "stitch_images(columns=2, space=2, images=['1L.jpg', '2L.jpg', '3L.jpg', '4L.jpg', '5L.jpg', '6L.jpg', '7L.jpg', '8L.jpg'])\n",
    "    "
   ]
  },
  {
   "cell_type": "code",
   "execution_count": 3,
   "id": "e7eb561a",
   "metadata": {},
   "outputs": [
    {
     "ename": "error",
     "evalue": "OpenCV(4.7.0) /Users/runner/work/opencv-python/opencv-python/opencv/modules/imgproc/src/histogram.cpp:202: error: (-215:Assertion failed) ranges[i] && ranges[i][0] < ranges[i][1] in function 'histPrepareImages'\n",
     "output_type": "error",
     "traceback": [
      "\u001b[0;31m---------------------------------------------------------------------------\u001b[0m",
      "\u001b[0;31merror\u001b[0m                                     Traceback (most recent call last)",
      "\u001b[0;32m/var/folders/pz/kxgfbj8d21zfzzm3v1lsghn00000gn/T/ipykernel_70884/3628127116.py\u001b[0m in \u001b[0;36m<module>\u001b[0;34m\u001b[0m\n\u001b[1;32m      8\u001b[0m \u001b[0;34m\u001b[0m\u001b[0m\n\u001b[1;32m      9\u001b[0m \u001b[0;31m# create the histogram\u001b[0m\u001b[0;34m\u001b[0m\u001b[0;34m\u001b[0m\u001b[0m\n\u001b[0;32m---> 10\u001b[0;31m \u001b[0mhist\u001b[0m \u001b[0;34m=\u001b[0m \u001b[0mcv2\u001b[0m\u001b[0;34m.\u001b[0m\u001b[0mcalcHist\u001b[0m\u001b[0;34m(\u001b[0m\u001b[0;34m[\u001b[0m\u001b[0mhsv\u001b[0m\u001b[0;34m]\u001b[0m\u001b[0;34m,\u001b[0m \u001b[0;34m[\u001b[0m\u001b[0;36m0\u001b[0m\u001b[0;34m,\u001b[0m \u001b[0;36m1\u001b[0m\u001b[0;34m,\u001b[0m \u001b[0;36m2\u001b[0m\u001b[0;34m]\u001b[0m\u001b[0;34m,\u001b[0m \u001b[0;32mNone\u001b[0m\u001b[0;34m,\u001b[0m \u001b[0;34m[\u001b[0m\u001b[0;36m180\u001b[0m\u001b[0;34m,\u001b[0m \u001b[0;36m256\u001b[0m\u001b[0;34m,\u001b[0m \u001b[0;36m256\u001b[0m\u001b[0;34m]\u001b[0m\u001b[0;34m,\u001b[0m \u001b[0;34m[\u001b[0m\u001b[0;36m266\u001b[0m\u001b[0;34m,\u001b[0m\u001b[0;36m9\u001b[0m\u001b[0;34m,\u001b[0m\u001b[0;36m99\u001b[0m\u001b[0;34m,\u001b[0m \u001b[0;36m270\u001b[0m\u001b[0;34m,\u001b[0m\u001b[0;36m66\u001b[0m\u001b[0;34m,\u001b[0m\u001b[0;36m60\u001b[0m\u001b[0;34m]\u001b[0m\u001b[0;34m)\u001b[0m\u001b[0;34m\u001b[0m\u001b[0;34m\u001b[0m\u001b[0m\n\u001b[0m\u001b[1;32m     11\u001b[0m \u001b[0;34m\u001b[0m\u001b[0m\n\u001b[1;32m     12\u001b[0m \u001b[0;31m# display the histogram\u001b[0m\u001b[0;34m\u001b[0m\u001b[0;34m\u001b[0m\u001b[0m\n",
      "\u001b[0;31merror\u001b[0m: OpenCV(4.7.0) /Users/runner/work/opencv-python/opencv-python/opencv/modules/imgproc/src/histogram.cpp:202: error: (-215:Assertion failed) ranges[i] && ranges[i][0] < ranges[i][1] in function 'histPrepareImages'\n"
     ]
    }
   ],
   "source": [
    "from PIL import Image\n",
    "\n",
    "# Open all 8 images\n",
    "images = [Image.open(f'image{i}.jpg') for i in range(1, 9)]\n",
    "\n",
    "# Create a new blank image with a width of the sum of the widths of the first two images and a height of the double of the height of the first image\n",
    "stitched_image = Image.new('RGB', (images[0].width + images[1].width, 2 * images[0].height))\n",
    "\n",
    "# Paste the first two images into the new image\n",
    "stitched_image.paste(images[0], (0, 0))\n",
    "stitched_image.paste(images[1], (images[0].width, 0))\n",
    "\n",
    "# Paste the next two images into the new image\n",
    "stitched_image.paste(images[2], (0, images[0].height))\n",
    "stitched_image.paste(images[3], (images[0].width, images[0].height))\n",
    "\n",
    "# paste the next two images into the new image\n",
    "stitched_image.paste(images[4], (0, 2*images[0].height))\n",
    "stitched_image.paste(images[5], (images[0].width, 2*images[0].height))\n",
    "\n",
    "# paste the next two images into the new image\n",
    "stitched_image.paste(images[6], (0, 3*images[0].height))\n",
    "stitched_image.paste(images[7], (images[0].width, 3*images[0].height))\n",
    "\n",
    "# Save the final stitched image\n",
    "stitched_image.save('stitched_image.jpg')"
   ]
  },
  {
   "cell_type": "markdown",
   "id": "48e92020",
   "metadata": {},
   "source": [
    "# Crop image"
   ]
  },
  {
   "cell_type": "code",
   "execution_count": null,
   "id": "99c8fce7",
   "metadata": {},
   "outputs": [],
   "source": [
    "import cv2\n",
    "import cv2 as cv\n",
    "\n",
    "import cv2\n",
    "\n",
    "im = cv2.imread('7LC.jpg')\n",
    "\n",
    "print(type(im))\n",
    "print(im.shape)\n",
    "print(type(im.shape))\n",
    "\n",
    "image = cv2.imread(r\"7LC.jpg\")\n",
    "\n",
    "y=0\n",
    "x=0\n",
    "h=1080\n",
    "w=757\n",
    "crop_image = image[x:w, y:h]\n",
    "cv2.imshow(\"7LC.jpg\", crop_image)\n",
    "cv2.imwrite(\"7LC.jpg\", crop_image)\n",
    "cv2.waitKey(0)"
   ]
  }
 ],
 "metadata": {
  "kernelspec": {
   "display_name": "Python 3 (ipykernel)",
   "language": "python",
   "name": "python3"
  },
  "language_info": {
   "codemirror_mode": {
    "name": "ipython",
    "version": 3
   },
   "file_extension": ".py",
   "mimetype": "text/x-python",
   "name": "python",
   "nbconvert_exporter": "python",
   "pygments_lexer": "ipython3",
   "version": "3.9.13"
  }
 },
 "nbformat": 4,
 "nbformat_minor": 5
}
